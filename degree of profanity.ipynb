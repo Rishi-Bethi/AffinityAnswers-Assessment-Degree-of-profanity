{
  "nbformat": 4,
  "nbformat_minor": 0,
  "metadata": {
    "colab": {
      "provenance": []
    },
    "kernelspec": {
      "name": "python3",
      "display_name": "Python 3"
    },
    "language_info": {
      "name": "python"
    }
  },
  "cells": [
    {
      "cell_type": "code",
      "execution_count": 13,
      "metadata": {
        "id": "miuuAXvWngKT"
      },
      "outputs": [],
      "source": [
        "import re"
      ]
    },
    {
      "cell_type": "code",
      "source": [
        "###function for tokenizing a sentence based on spaces\n",
        "def tokenize(text): \n",
        "    return re.findall(r'\\w+', text.lower())"
      ],
      "metadata": {
        "id": "6oh4FUTguZ69"
      },
      "execution_count": 14,
      "outputs": []
    },
    {
      "cell_type": "code",
      "source": [
        "#opening the text file consisting of Instagram comments and reading them into a list\n",
        "with open('comments.txt') as f:\n",
        "    lines=[line.rstrip() for line in f]"
      ],
      "metadata": {
        "id": "82QWE_IdugvB"
      },
      "execution_count": 15,
      "outputs": []
    },
    {
      "cell_type": "code",
      "source": [
        "# list of racial slurs supplied to us\n",
        "racial_slurs = [\"dumbfuck\",\"bitch\",\"moron\",\"shit\",\"stupid\",\"anal\",\"anus\",\"ballsack\",\"blowjob\",\"blow job\",\n",
        "\"boner\",\"clitoris\",\"cock\",\"cunt\",\"dick\",\"dildo\",\"dyke\",\"fag\",\"fuck\",\"jizz\",\"labia\",\"muff\",\"nigger\",\"nigga\",\"penis\", \n",
        "\"piss\",\"pussy\",\"scrotum\",\"sex\",\"shit\",\"slut\",\"smegma\",\"spunk\",\"twat\",\"vagina\",\"wank\",\"whore\"]"
      ],
      "metadata": {
        "id": "qfvmS5MJukL3"
      },
      "execution_count": 16,
      "outputs": []
    },
    {
      "cell_type": "code",
      "source": [
        "for i in lines:\n",
        "    count = 0\n",
        "    profanity_degree = 0\n",
        "    comment_token=tokenize(i)\n",
        "    for word in comment_token:\n",
        "        if word.lower() in racial_slurs:\n",
        "            count = count + 1    \n",
        "\t# degree:number of occurrences normalized by total number\n",
        "    profanity_degree = profanity_degree + count/len(comment_token)\n",
        "    print(\"Comment: \"+ i +\" ===> profanity_degree: \" + str(profanity_degree))"
      ],
      "metadata": {
        "colab": {
          "base_uri": "https://localhost:8080/"
        },
        "id": "Ub8Gdhx5unwx",
        "outputId": "909d5d7d-2720-428c-f290-e06b6e22d9a5"
      },
      "execution_count": 22,
      "outputs": [
        {
          "output_type": "stream",
          "name": "stdout",
          "text": [
            "Comment: He is a dumbfuck ===> profanity_degree: 0.25\n",
            "Comment: Look at this bitch ===> profanity_degree: 0.25\n",
            "Comment: you are a moron ===> profanity_degree: 0.25\n",
            "Comment: Hello World! I am Tirthankar Dutta. How are you doing today? ===> profanity_degree: 0.0\n",
            "Comment: Hey moron! Do you like being an asshole? Why are you such a freak?!! ===> profanity_degree: 0.07142857142857142\n",
            "Comment: Are you an idiot? Fucking bastard! ===> profanity_degree: 0.0\n",
            "Comment: Man! What a niggar! Bloody bastard!! ===> profanity_degree: 0.0\n",
            "Comment: Get a life! dog... ===> profanity_degree: 0.0\n",
            "Comment: Sexy girl! OMG! ===> profanity_degree: 0.0\n",
            "Comment: Man, I can bone that her all night long.... ===> profanity_degree: 0.0\n",
            "Comment: I love Titanic movie. It is a cool movie...so romantic. ===> profanity_degree: 0.0\n",
            "Comment: Fuck it we don't need this ===> profanity_degree: 0.14285714285714285\n",
            "Comment: Congrats bro, good for you. ===> profanity_degree: 0.0\n",
            "Comment: I would have get boner at that movement ===> profanity_degree: 0.125\n"
          ]
        }
      ]
    }
  ]
}